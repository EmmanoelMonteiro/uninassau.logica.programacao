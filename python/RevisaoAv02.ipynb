{
  "nbformat": 4,
  "nbformat_minor": 0,
  "metadata": {
    "colab": {
      "provenance": []
    },
    "kernelspec": {
      "name": "python3",
      "display_name": "Python 3"
    },
    "language_info": {
      "name": "python"
    }
  },
  "cells": [
    {
      "cell_type": "markdown",
      "source": [
        "#Avaliação para Estagiários de Programação\n",
        "**Empresa:** InovaTech Solutions\n",
        "\n",
        "**Cargo:** Estagiário em Desenvolvimento de Software\n",
        "\n",
        "**Duração:** 120 minutos"
      ],
      "metadata": {
        "id": "xjZynK2yzB47"
      }
    },
    {
      "cell_type": "markdown",
      "source": [
        "**Questão 01:** Escreva um programa que peça nome e profissão ao usuário e imprima:"
      ],
      "metadata": {
        "id": "RvBS26j7zJLz"
      }
    },
    {
      "cell_type": "code",
      "execution_count": null,
      "metadata": {
        "id": "PJrY5_Uby2-o"
      },
      "outputs": [],
      "source": []
    },
    {
      "cell_type": "markdown",
      "source": [
        "**Questão 2:** Escreva um programa que conte quantas letras maiúsculas existem em uma string fornecida pelo usuário.\n",
        "\n",
        "> *Exemplo: Entrada: \"Python\" → Saída: \"A string 'Python' tem 1 letra(s) maiúscula(s).\"*\n",
        "\n"
      ],
      "metadata": {
        "id": "FtUg0c7Dz-nV"
      }
    },
    {
      "cell_type": "code",
      "source": [],
      "metadata": {
        "id": "OF7NlT9C0Fwu"
      },
      "execution_count": null,
      "outputs": []
    },
    {
      "cell_type": "markdown",
      "source": [
        "**Questão 3:** Use a estrutura while para somar números digitados pelo usuário até que ele insira 0. Exiba o total."
      ],
      "metadata": {
        "id": "457Elc2i0mMd"
      }
    },
    {
      "cell_type": "code",
      "source": [],
      "metadata": {
        "id": "d8bhIQAR0r6z"
      },
      "execution_count": null,
      "outputs": []
    },
    {
      "cell_type": "markdown",
      "source": [
        "**Questão 4:** Escreva um programa que\n",
        "Classifique a idade do usuário em:\n",
        "\n",
        "\n",
        "\n",
        "> \"Criança\" (< 12 anos),\n",
        "\n",
        "> \"Adolescente\" (12–17 anos),\n",
        "\n",
        "> \"Adulto\" (≥ 18 anos).\n",
        "\n"
      ],
      "metadata": {
        "id": "EfwA5o6f0tmY"
      }
    },
    {
      "cell_type": "code",
      "source": [],
      "metadata": {
        "id": "uxAmZ7Tx0_Gl"
      },
      "execution_count": null,
      "outputs": []
    },
    {
      "cell_type": "markdown",
      "source": [
        "**Questão 5:** Escreva 3 números e calcule a média aritmética."
      ],
      "metadata": {
        "id": "cuzlrMyb1MaR"
      }
    },
    {
      "cell_type": "code",
      "source": [],
      "metadata": {
        "id": "3JXi-2901RPr"
      },
      "execution_count": null,
      "outputs": []
    },
    {
      "cell_type": "markdown",
      "source": [
        "**Questão 6:** Use a estrutura FOR para imprimir números de 1 a 5 (um por linha)."
      ],
      "metadata": {
        "id": "8uquy-_y1SEL"
      }
    },
    {
      "cell_type": "code",
      "source": [],
      "metadata": {
        "id": "ioC_KgXa1og9"
      },
      "execution_count": null,
      "outputs": []
    },
    {
      "cell_type": "markdown",
      "source": [
        "**Questão 7:** Escreva uma função que modifique o terceiro elemento da lista para o número digitado pelo usuário.\n",
        "\n",
        "> Lista: [10, 20, 30, 40]\n",
        "\n"
      ],
      "metadata": {
        "id": "Riw0WrOl1xtb"
      }
    },
    {
      "cell_type": "code",
      "source": [],
      "metadata": {
        "id": "_Lz5hliH2Etg"
      },
      "execution_count": null,
      "outputs": []
    },
    {
      "cell_type": "markdown",
      "source": [
        "**Questão 8:** Crie uma função calcular_area_retangulo(base, altura) que retorne a área de um retângulo."
      ],
      "metadata": {
        "id": "_fnwt5Us2OBc"
      }
    },
    {
      "cell_type": "code",
      "source": [],
      "metadata": {
        "id": "lcBfayJn2UAm"
      },
      "execution_count": null,
      "outputs": []
    },
    {
      "cell_type": "markdown",
      "source": [
        "**Questão 9:** Escreva um programa que receba duas listas **de mesmo tamanho** e retorne uma nova lista com os elementos intercalados.  \n",
        "**Exemplo:**  \n",
        "ENTRADA\n",
        "```\n",
        "lista01 = ['a', 'e', 'i', 'o', 'u']  \n",
        "lista02 = [1, 2, 3, 4, 5]\n",
        "```\n",
        "SAÍDA\n",
        "\n",
        "\n",
        "```\n",
        "['a', 1, 'e', 2, 'i', 3, 'o', 4, 'u', 5]\n",
        "```"
      ],
      "metadata": {
        "id": "Cm-ejiYL2RMN"
      }
    },
    {
      "cell_type": "code",
      "source": [],
      "metadata": {
        "id": "FqM-mzXJ4KpM"
      },
      "execution_count": null,
      "outputs": []
    },
    {
      "cell_type": "markdown",
      "source": [
        "**Questão 10:** Escreva uma função que RETIRE o elemento da lista de acordo com o número da posição digitado pelo usuário.\n",
        "\n",
        "Lista: [10, 20, 30, 40]"
      ],
      "metadata": {
        "id": "5Xi0WHbi47k8"
      }
    },
    {
      "cell_type": "code",
      "source": [],
      "metadata": {
        "id": "9d4rOtrU5G5j"
      },
      "execution_count": null,
      "outputs": []
    }
  ]
}