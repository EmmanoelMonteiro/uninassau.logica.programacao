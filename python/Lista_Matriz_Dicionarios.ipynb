{
  "nbformat": 4,
  "nbformat_minor": 0,
  "metadata": {
    "colab": {
      "provenance": []
    },
    "kernelspec": {
      "name": "python3",
      "display_name": "Python 3"
    },
    "language_info": {
      "name": "python"
    }
  },
  "cells": [
    {
      "cell_type": "markdown",
      "source": [
        "# 1. Inversão de String\n",
        "Descrição:\n",
        "Inverta uma string sem usar métodos prontos (ex: [::-1] ou reversed)."
      ],
      "metadata": {
        "id": "VxO39Wzn-ZAB"
      }
    },
    {
      "cell_type": "code",
      "execution_count": null,
      "metadata": {
        "id": "TiG_Bd2w-Pnl",
        "colab": {
          "base_uri": "https://localhost:8080/"
        },
        "outputId": "334fabdb-1b01-4781-92a7-c00174682526"
      },
      "outputs": [
        {
          "output_type": "stream",
          "name": "stdout",
          "text": [
            "Digite um texto: Pedro\n",
            "Letra:  o\n",
            "Letra:  r\n",
            "Letra:  d\n",
            "Letra:  e\n",
            "Letra:  P\n",
            "Texto invertido: ordeP\n"
          ]
        }
      ],
      "source": [
        "texto = input(\"Digite um texto: \")\n",
        "\n",
        "invertido = \"\"\n",
        "\n",
        "# range(start, stop, step)\n",
        "\n",
        "for i in range(len(texto)-1, -1, -1):\n",
        "    print(\"Letra: \", texto[i])\n",
        "    invertido += texto[i]\n",
        "\n",
        "print(f\"Texto invertido: {invertido}\")"
      ]
    },
    {
      "cell_type": "markdown",
      "source": [
        "# 2. Contar Palavras em uma Frase\n",
        "Descrição: Escreva um algoritmo que receba uma frase e conte a quantidade de palavras contidas."
      ],
      "metadata": {
        "id": "xBIqk_dWBioL"
      }
    },
    {
      "cell_type": "code",
      "source": [
        "# Recebe a frase do usuário\n",
        "frase = input(\"Digite uma frase: \")\n",
        "\n",
        "# Divide a frase em palavras usando espaços como separadores\n",
        "palavras = frase.split()\n",
        "\n",
        "print(\"Lista de Palavras\", palavras)\n",
        "\n",
        "\n",
        "preposicoes = [\"a\", \"ante\", \"após\", \"até\", \"com\", \"contra\",\n",
        "               \"de\", \"desde\", \"em\", \"entre\", \"para\", \"perante\",\n",
        "               \"por\", \"sem\", \"sob\", \"sobre\", \"trás\"]\n",
        "\n",
        "for p in palavras:\n",
        "    if p in preposicoes:\n",
        "        palavras.remove(p)\n",
        "\n",
        "\n",
        "# Conta a quantidade de palavras\n",
        "quantidade_palavras = len(palavras)\n",
        "\n",
        "# Exibe o resultado\n",
        "print(f\"A frase contém {quantidade_palavras} palavras.\")"
      ],
      "metadata": {
        "id": "BfMl1eC0B1YC",
        "colab": {
          "base_uri": "https://localhost:8080/"
        },
        "outputId": "d1ce8883-799c-4f63-8f11-5f386c60f85f"
      },
      "execution_count": null,
      "outputs": [
        {
          "output_type": "stream",
          "name": "stdout",
          "text": [
            "Digite uma frase: Meu carro\n",
            "Lista de Palavras ['Meu', 'carro']\n",
            "A frase contém 2 palavras.\n"
          ]
        }
      ]
    },
    {
      "cell_type": "markdown",
      "source": [
        "# 3. Soma de duas matrizes\n",
        "Soma de duas matrizes 2x2.\n",
        "Uma matriz é uma lista de listas"
      ],
      "metadata": {
        "id": "k6LlTFzjGh_Q"
      }
    },
    {
      "cell_type": "code",
      "source": [
        "# Criando duas matrizes 2x2\n",
        "matriz1 = [\n",
        "    [1, 2],\n",
        "    [3, 4]\n",
        "]\n",
        "\n",
        "matriz2 = [\n",
        "    [5, 6],\n",
        "    [7, 8]\n",
        "]\n",
        "\n",
        "# Matriz para armazenar o resultado da soma\n",
        "resultado = [\n",
        "    [0, 0],\n",
        "    [0, 0]\n",
        "]\n",
        "print(\"#########################################\")\n",
        "print(\"Matriz 01\", matriz1)\n",
        "print(\"-----------------------------------------\")\n",
        "print(\"Matriz 02\", matriz2)\n",
        "print(\"#########################################\")\n",
        "print(\"Range da Matriz 01\", range(len(matriz1)))\n",
        "print(\"-----------------------------------------\")\n",
        "print(\"Range da Matriz 02\", range(len(matriz2)))\n",
        "print(\"#########################################\")\n",
        "\n",
        "# Percorrendo cada linha e coluna para somar os elementos\n",
        "for l in range(len(matriz1)):       # Loop pelas linhas (0 e 1)\n",
        "    for c in range(len(matriz1[0])): # Loop pelas colunas (0 e 1)\n",
        "        resultado[l][c] = matriz1[l][c] + matriz2[l][c]\n",
        "        print(\"Posição: \", \"[\",l,\",\", c,\"]\")\n",
        "        print(\"----------------\")\n",
        "        print(resultado[l][c], \" = \", matriz1[l][c], \" + \", matriz2[l][c])\n",
        "        print(\"----------------\")\n",
        "\n",
        "# Exibindo o resultado\n",
        "print(\"Resultado da soma das matrizes:\")\n",
        "for linha in resultado:\n",
        "    print(linha)"
      ],
      "metadata": {
        "colab": {
          "base_uri": "https://localhost:8080/"
        },
        "id": "rNis2RcsGuzl",
        "outputId": "c22289e8-ebde-4fab-a1d5-64b6e578b733"
      },
      "execution_count": null,
      "outputs": [
        {
          "output_type": "stream",
          "name": "stdout",
          "text": [
            "#########################################\n",
            "Matriz 01 [[1, 2], [3, 4]]\n",
            "-----------------------------------------\n",
            "Matriz 02 [[5, 6], [7, 8]]\n",
            "#########################################\n",
            "Range da Matriz 01 range(0, 2)\n",
            "-----------------------------------------\n",
            "Range da Matriz 02 range(0, 2)\n",
            "#########################################\n",
            "Posição:  [ 0 , 0 ]\n",
            "----------------\n",
            "6  =  1  +  5\n",
            "----------------\n",
            "Posição:  [ 0 , 1 ]\n",
            "----------------\n",
            "8  =  2  +  6\n",
            "----------------\n",
            "Posição:  [ 1 , 0 ]\n",
            "----------------\n",
            "10  =  3  +  7\n",
            "----------------\n",
            "Posição:  [ 1 , 1 ]\n",
            "----------------\n",
            "12  =  4  +  8\n",
            "----------------\n",
            "Resultado da soma das matrizes:\n",
            "[6, 8]\n",
            "[10, 12]\n"
          ]
        }
      ]
    },
    {
      "cell_type": "markdown",
      "source": [
        "# 4. Entendendo Dicionários (Sistema de Login)\n",
        "\n",
        "Descrição: Crie um sistema de login que valide usuário e senha pré-cadastrados."
      ],
      "metadata": {
        "id": "drxFEZ8UKS1t"
      }
    },
    {
      "cell_type": "code",
      "source": [
        "usuarios = [\n",
        "    {\n",
        "        \"usuario\": \"admin\",\n",
        "        \"senha\": \"12345\",\n",
        "        \"permissoes\":[\n",
        "            \"inserir\",\n",
        "            \"alterar\",\n",
        "            \"ecluir\"\n",
        "        ]\n",
        "     },\n",
        "    {\n",
        "        \"usuario\": \"aluno\",\n",
        "        \"senha\": \"python\",\n",
        "        \"permissoes\":[\n",
        "            \"inserir\",\n",
        "            \"alterar\",\n",
        "            \"ecluir\"\n",
        "        ]}\n",
        "]\n",
        "\n",
        "\n",
        "user = input(\"Usuário: \")\n",
        "senha = input(\"Senha: \")\n",
        "\n",
        "def login(user,senha):\n",
        "    for usuario in usuarios:\n",
        "        print(usuario)\n",
        "        if usuario[\"usuario\"] == user and usuario[\"senha\"] == senha:\n",
        "            print(\"Login realizado com sucesso!\")\n",
        "            break\n",
        "    else:\n",
        "        print(\"Usuário ou senha incorretos!\")\n",
        "\n",
        "\n",
        "login(user,senha)"
      ],
      "metadata": {
        "colab": {
          "base_uri": "https://localhost:8080/"
        },
        "id": "OtnNh98dKexP",
        "outputId": "47f5a1a9-8132-4b69-f4bc-c3a71d8daf4f"
      },
      "execution_count": null,
      "outputs": [
        {
          "output_type": "stream",
          "name": "stdout",
          "text": [
            "Usuário: aluno\n",
            "Senha: python\n",
            "{'usuario': 'admin', 'senha': '12345', 'permissoes': ['inserir', 'alterar', 'ecluir']}\n",
            "{'usuario': 'aluno', 'senha': 'python', 'permissoes': ['inserir', 'alterar', 'ecluir']}\n",
            "Login realizado com sucesso!\n"
          ]
        }
      ]
    },
    {
      "cell_type": "markdown",
      "source": [
        "# 5. Roteiro de operações com dicionários em Python\n",
        "\n"
      ],
      "metadata": {
        "id": "slQCjomMNDYI"
      }
    },
    {
      "cell_type": "code",
      "source": [
        "# Dicionário vazio\n",
        "usuarios = []\n",
        "\n",
        "print(usuarios)\n",
        "\n",
        "# Dicionário com usuários iniciais\n",
        "novo_usuario =  {\n",
        "                \"usuario\": \"admin\",\n",
        "                \"senha\": \"12345\",\n",
        "                \"permissoes\":[\n",
        "                    \"inserir\",\n",
        "                    \"alterar\",\n",
        "                    \"ecluir\"\n",
        "                ]\n",
        "            }\n",
        "\n",
        "usuarios.append(novo_usuario)\n",
        "print(usuarios)"
      ],
      "metadata": {
        "colab": {
          "base_uri": "https://localhost:8080/"
        },
        "id": "21gqVP4WNLz2",
        "outputId": "9f6467b6-5549-4cba-e7ce-06b0bd906507"
      },
      "execution_count": null,
      "outputs": [
        {
          "output_type": "stream",
          "name": "stdout",
          "text": [
            "[]\n",
            "[{'usuario': 'admin', 'senha': '12345', 'permissoes': ['inserir', 'alterar', 'ecluir']}]\n"
          ]
        }
      ]
    },
    {
      "cell_type": "code",
      "source": [
        "# Adiciona um novo usuário\n",
        "\n",
        "novo_usuario = {\n",
        "        \"usuario\": \"carlos\",\n",
        "        \"senha\": \"7890\",\n",
        "        \"permissoes\":[\n",
        "            \"inserir\",\n",
        "            \"alterar\",\n",
        "            \"ecluir\"\n",
        "        ]\n",
        "     }\n",
        "\n",
        "usuarios.append(novo_usuario)\n",
        "print(usuarios)"
      ],
      "metadata": {
        "colab": {
          "base_uri": "https://localhost:8080/"
        },
        "id": "B4wmLUqtNP_L",
        "outputId": "13390f10-c688-4540-ff1e-b7c6a409ac1a"
      },
      "execution_count": null,
      "outputs": [
        {
          "output_type": "stream",
          "name": "stdout",
          "text": [
            "[{'usuario': 'admin', 'senha': '12345', 'permissoes': ['inserir', 'alterar', 'ecluir']}, {'usuario': 'carlos', 'senha': '7890', 'permissoes': ['inserir', 'alterar', 'ecluir']}]\n"
          ]
        }
      ]
    },
    {
      "cell_type": "code",
      "source": [
        "for u in usuarios:\n",
        "    print(u)"
      ],
      "metadata": {
        "colab": {
          "base_uri": "https://localhost:8080/"
        },
        "id": "RjoADF90CS3e",
        "outputId": "f9e14eb1-9181-4472-a8e3-6b4cc9e109ca"
      },
      "execution_count": null,
      "outputs": [
        {
          "output_type": "stream",
          "name": "stdout",
          "text": [
            "{'usuario': 'admin', 'senha': '12345', 'permissoes': ['inserir', 'alterar', 'ecluir']}\n",
            "{'usuario': 'carlos', 'senha': '7890', 'permissoes': ['inserir', 'alterar', 'ecluir']}\n"
          ]
        }
      ]
    },
    {
      "cell_type": "code",
      "source": [
        "# Remove um usuário usando del\n",
        "# del usuarios[\"maria\"]\n",
        "# print(usuarios)\n",
        "\n",
        "# Remove com pop() (retorna a senha)\n",
        "user_removido = usuarios.pop(1)\n",
        "print(f\"Senha removida: {user_removido}\")\n",
        "\n",
        "print(\"USUÁRIOS ##########################\")\n",
        "print(usuarios)"
      ],
      "metadata": {
        "colab": {
          "base_uri": "https://localhost:8080/"
        },
        "id": "n4nElBt_NZAX",
        "outputId": "ed7b4452-dacb-4a51-cf44-06e226e5e101"
      },
      "execution_count": null,
      "outputs": [
        {
          "output_type": "stream",
          "name": "stdout",
          "text": [
            "Senha removida: {'usuario': 'carlos', 'senha': '7890', 'permissoes': ['inserir', 'alterar', 'ecluir']}\n",
            "##########################\n",
            "[{'usuario': 'admin', 'senha': '12345', 'permissoes': ['inserir', 'alterar', 'ecluir']}]\n"
          ]
        }
      ]
    },
    {
      "cell_type": "code",
      "source": [
        "# Atualiza a senha do admin\n",
        "usuarios[0][\"senha\"] = \"nova_senha_2024\"\n",
        "print(\"Nova senha: \", usuarios[0][\"usuario\"])  # Saída: nova_senha_2024\n",
        "print(usuarios)"
      ],
      "metadata": {
        "colab": {
          "base_uri": "https://localhost:8080/"
        },
        "id": "7CGWkNfRNbxh",
        "outputId": "b4ef2aec-addd-4753-97ed-d2c4a2ac096e"
      },
      "execution_count": null,
      "outputs": [
        {
          "output_type": "stream",
          "name": "stdout",
          "text": [
            "Nova senha:  admin\n",
            "[{'usuario': 'admin', 'senha': 'nova_senha_2024', 'permissoes': ['inserir', 'alterar', 'ecluir']}, {'usuario': 'carlos', 'senha': '7890', 'permissoes': ['inserir', 'alterar', 'ecluir']}]\n"
          ]
        }
      ]
    },
    {
      "cell_type": "code",
      "source": [
        "# Imprime usuários\n",
        "print(\"Usuários cadastrados:\", usuarios[0].items())  # Saída: dict_keys(['admin'])\n",
        "\n",
        "# Imprime chaves (usuários)\n",
        "print(\"Usuários cadastrados:\", usuarios[0].keys())  # Saída: dict_keys(['admin'])\n",
        "\n",
        "# Imprime valores (usuários)\n",
        "print(\"Dados completos:\", usuarios[0].values())  # Saída: dict_items([('admin', 'nova_senha_2024')])"
      ],
      "metadata": {
        "colab": {
          "base_uri": "https://localhost:8080/"
        },
        "id": "RWKk6Lt_Nk_F",
        "outputId": "77669ba7-c2ec-47bf-8601-4e1c3f3a13c3"
      },
      "execution_count": null,
      "outputs": [
        {
          "output_type": "stream",
          "name": "stdout",
          "text": [
            "Usuários cadastrados: dict_items([('usuario', 'admin'), ('senha', 'nova_senha_2024'), ('permissoes', ['inserir', 'alterar', 'ecluir'])])\n",
            "Usuários cadastrados: dict_keys(['usuario', 'senha', 'permissoes'])\n",
            "Dados completos: dict_values(['admin', 'nova_senha_2024', ['inserir', 'alterar', 'ecluir']])\n"
          ]
        }
      ]
    }
  ]
}