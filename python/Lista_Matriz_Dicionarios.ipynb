{
  "nbformat": 4,
  "nbformat_minor": 0,
  "metadata": {
    "colab": {
      "provenance": []
    },
    "kernelspec": {
      "name": "python3",
      "display_name": "Python 3"
    },
    "language_info": {
      "name": "python"
    }
  },
  "cells": [
    {
      "cell_type": "markdown",
      "source": [
        "# 1. Inversão de String\n",
        "Descrição:\n",
        "Inverta uma string sem usar métodos prontos (ex: [::-1] ou reversed)."
      ],
      "metadata": {
        "id": "VxO39Wzn-ZAB"
      }
    },
    {
      "cell_type": "code",
      "execution_count": null,
      "metadata": {
        "id": "TiG_Bd2w-Pnl"
      },
      "outputs": [],
      "source": [
        "texto = input(\"Digite um texto: \")\n",
        "\n",
        "invertido = \"\"\n",
        "\n",
        "# range(start, stop, step)\n",
        "\n",
        "for i in range(len(texto)-1, -1, -1):\n",
        "    print(\"Letra: \", texto[i])\n",
        "    invertido += texto[i]\n",
        "\n",
        "print(f\"Texto invertido: {invertido}\")"
      ]
    },
    {
      "cell_type": "markdown",
      "source": [
        "# 2. Contar Palavras em uma Frase\n",
        "Descrição: Escreva um algoritmo que receba uma frase e conte a quantidade de palavras contidas."
      ],
      "metadata": {
        "id": "xBIqk_dWBioL"
      }
    },
    {
      "cell_type": "code",
      "source": [
        "# Recebe a frase do usuário\n",
        "frase = input(\"Digite uma frase: \")\n",
        "\n",
        "# Divide a frase em palavras usando espaços como separadores\n",
        "palavras = frase.split()\n",
        "\n",
        "print(\"Lista de Palavras\", palavras)\n",
        "\n",
        "'''\n",
        "preposicoes = [\"a\", \"ante\", \"após\", \"até\", \"com\", \"contra\",\n",
        "               \"de\", \"desde\", \"em\", \"entre\", \"para\", \"perante\",\n",
        "               \"por\", \"sem\", \"sob\", \"sobre\", \"trás\"]\n",
        "\n",
        "for p in palavras:\n",
        "    if p in preposicoes:\n",
        "        palavras.remove(p)\n",
        "'''\n",
        "\n",
        "# Conta a quantidade de palavras\n",
        "quantidade_palavras = len(palavras)\n",
        "\n",
        "# Exibe o resultado\n",
        "print(f\"A frase contém {quantidade_palavras} palavras.\")"
      ],
      "metadata": {
        "id": "BfMl1eC0B1YC"
      },
      "execution_count": null,
      "outputs": []
    },
    {
      "cell_type": "markdown",
      "source": [
        "# 3. Soma de duas matrizes\n",
        "Soma de duas matrizes 2x2.\n",
        "Uma matriz é uma lista de listas"
      ],
      "metadata": {
        "id": "k6LlTFzjGh_Q"
      }
    },
    {
      "cell_type": "code",
      "source": [
        "# Criando duas matrizes 2x2\n",
        "matriz1 = [\n",
        "    [1, 2],\n",
        "    [3, 4]\n",
        "]\n",
        "\n",
        "matriz2 = [\n",
        "    [5, 6],\n",
        "    [7, 8]\n",
        "]\n",
        "\n",
        "# Matriz para armazenar o resultado da soma\n",
        "resultado = [\n",
        "    [0, 0],\n",
        "    [0, 0]\n",
        "]\n",
        "print(\"#########################################\")\n",
        "print(\"Matriz 01\", matriz1)\n",
        "print(\"-----------------------------------------\")\n",
        "print(\"Matriz 02\", matriz2)\n",
        "print(\"#########################################\")\n",
        "print(\"Range da Matriz 01\", range(len(matriz1)))\n",
        "print(\"-----------------------------------------\")\n",
        "print(\"Range da Matriz 02\", range(len(matriz2)))\n",
        "print(\"#########################################\")\n",
        "\n",
        "# Percorrendo cada linha e coluna para somar os elementos\n",
        "for i in range(len(matriz1)):       # Loop pelas linhas (0 e 1)\n",
        "    for j in range(len(matriz1[0])): # Loop pelas colunas (0 e 1)\n",
        "        resultado[i][j] = matriz1[i][j] + matriz2[i][j]\n",
        "        print(\"Posição: \", \"[\",i,\",\", j,\"]\")\n",
        "        print(\"----------------\")\n",
        "        print(resultado[i][j], \" = \", matriz1[i][j], \" + \", matriz2[i][j])\n",
        "        print(\"----------------\")\n",
        "\n",
        "# Exibindo o resultado\n",
        "print(\"Resultado da soma das matrizes:\")\n",
        "for linha in resultado:\n",
        "    print(linha)"
      ],
      "metadata": {
        "colab": {
          "base_uri": "https://localhost:8080/"
        },
        "id": "rNis2RcsGuzl",
        "outputId": "3e59149f-ccc1-4076-84b2-740532a64a17"
      },
      "execution_count": null,
      "outputs": [
        {
          "output_type": "stream",
          "name": "stdout",
          "text": [
            "#########################################\n",
            "Matriz 01 [[1, 2], [3, 4]]\n",
            "-----------------------------------------\n",
            "Matriz 02 [[5, 6], [7, 8]]\n",
            "#########################################\n",
            "Range da Matriz 01 range(0, 2)\n",
            "-----------------------------------------\n",
            "Range da Matriz 02 range(0, 2)\n",
            "#########################################\n",
            "Posição:  [ 0 , 0 ]\n",
            "----------------\n",
            "6  =  1  +  5\n",
            "----------------\n",
            "Posição:  [ 0 , 1 ]\n",
            "----------------\n",
            "8  =  2  +  6\n",
            "----------------\n",
            "Posição:  [ 1 , 0 ]\n",
            "----------------\n",
            "10  =  3  +  7\n",
            "----------------\n",
            "Posição:  [ 1 , 1 ]\n",
            "----------------\n",
            "12  =  4  +  8\n",
            "----------------\n",
            "Resultado da soma das matrizes:\n",
            "[6, 8]\n",
            "[10, 12]\n"
          ]
        }
      ]
    },
    {
      "cell_type": "markdown",
      "source": [
        "# 4. Entendendo Dicionários (Sistema de Login)\n",
        "\n",
        "Descrição: Crie um sistema de login que valide usuário e senha pré-cadastrados."
      ],
      "metadata": {
        "id": "drxFEZ8UKS1t"
      }
    },
    {
      "cell_type": "code",
      "source": [
        "usuarios = [\n",
        "    {\"usuario\": \"admin\", \"senha\": \"12345\"},\n",
        "    {\"usuario\": \"aluno\", \"senha\": \"python\"}\n",
        "]\n",
        "user = input(\"Usuário: \")\n",
        "senha = input(\"Senha: \")\n",
        "\n",
        "for usuario in usuarios:\n",
        "    print(usuario)\n",
        "    if usuario[\"usuario\"] == user and usuario[\"senha\"] == senha:\n",
        "        print(\"Login realizado com sucesso!\")\n",
        "        break\n",
        "else:\n",
        "    print(\"Usuário ou senha incorretos!\")"
      ],
      "metadata": {
        "colab": {
          "base_uri": "https://localhost:8080/"
        },
        "id": "OtnNh98dKexP",
        "outputId": "30b96d04-ee6a-4b30-8651-1c2a1059c9d9"
      },
      "execution_count": null,
      "outputs": [
        {
          "output_type": "stream",
          "name": "stdout",
          "text": [
            "Usuário: admin\n",
            "Senha: 321\n",
            "{'usuario': 'admin', 'senha': '12345'}\n",
            "{'usuario': 'aluno', 'senha': 'python'}\n",
            "Usuário ou senha incorretos!\n"
          ]
        }
      ]
    },
    {
      "cell_type": "markdown",
      "source": [
        "# 5. Roteiro de operações com dicionários em Python\n",
        "\n"
      ],
      "metadata": {
        "id": "slQCjomMNDYI"
      }
    },
    {
      "cell_type": "code",
      "source": [
        "# Dicionário vazio\n",
        "usuarios = {}\n",
        "\n",
        "# Dicionário com usuários iniciais\n",
        "usuarios = {\n",
        "    \"admin\": \"senha123\",\n",
        "    \"maria\": \"python2024\"\n",
        "}\n",
        "\n",
        "print(usuarios)"
      ],
      "metadata": {
        "colab": {
          "base_uri": "https://localhost:8080/"
        },
        "id": "21gqVP4WNLz2",
        "outputId": "f267e42e-6750-4e45-8d4a-7c1e6c35a249"
      },
      "execution_count": null,
      "outputs": [
        {
          "output_type": "stream",
          "name": "stdout",
          "text": [
            "{'admin': 'senha123', 'maria': 'python2024'}\n"
          ]
        }
      ]
    },
    {
      "cell_type": "code",
      "source": [
        "# Adiciona um novo usuário e senha\n",
        "usuarios[\"joao\"] = \"j123@secure\"\n",
        "print(usuarios)"
      ],
      "metadata": {
        "colab": {
          "base_uri": "https://localhost:8080/"
        },
        "id": "B4wmLUqtNP_L",
        "outputId": "dce38e58-335c-4d38-df5b-cfcac8520d4f"
      },
      "execution_count": null,
      "outputs": [
        {
          "output_type": "stream",
          "name": "stdout",
          "text": [
            "{'admin': 'senha123', 'maria': 'python2024', 'joao': 'j123@secure'}\n"
          ]
        }
      ]
    },
    {
      "cell_type": "code",
      "source": [
        "# Remove um usuário usando del\n",
        "# del usuarios[\"maria\"]\n",
        "# print(usuarios)\n",
        "\n",
        "# Remove com pop() (retorna a senha)\n",
        "senha_removida = usuarios.pop(\"joao\")\n",
        "print(f\"Senha removida: {senha_removida}\")\n",
        "\n",
        "print(usuarios)"
      ],
      "metadata": {
        "colab": {
          "base_uri": "https://localhost:8080/"
        },
        "id": "n4nElBt_NZAX",
        "outputId": "b54565a8-a99e-4382-ca4a-620dced6e0fc"
      },
      "execution_count": null,
      "outputs": [
        {
          "output_type": "stream",
          "name": "stdout",
          "text": [
            "Senha removida: j123@secure\n",
            "{'admin': 'senha123', 'maria': 'python2024'}\n"
          ]
        }
      ]
    },
    {
      "cell_type": "code",
      "source": [
        "# Atualiza a senha do admin\n",
        "usuarios[\"admin\"] = \"nova_senha_2024\"\n",
        "print(\"Nova senha: \", usuarios[\"admin\"])  # Saída: nova_senha_2024\n",
        "print(usuarios)"
      ],
      "metadata": {
        "colab": {
          "base_uri": "https://localhost:8080/"
        },
        "id": "7CGWkNfRNbxh",
        "outputId": "e4c2a3d7-c8dd-4e28-c234-e0033b813638"
      },
      "execution_count": null,
      "outputs": [
        {
          "output_type": "stream",
          "name": "stdout",
          "text": [
            "Nova senha:  nova_senha_2024\n",
            "{'admin': 'nova_senha_2024', 'maria': 'python2024'}\n"
          ]
        }
      ]
    },
    {
      "cell_type": "code",
      "source": [
        "# Imprime usuários\n",
        "print(\"Usuários cadastrados:\", usuarios.items())  # Saída: dict_keys(['admin'])\n",
        "\n",
        "# Imprime chaves (usuários)\n",
        "print(\"Usuários cadastrados:\", usuarios.keys())  # Saída: dict_keys(['admin'])\n",
        "\n",
        "# Imprime valores (usuários)\n",
        "print(\"Dados completos:\", usuarios.values())  # Saída: dict_items([('admin', 'nova_senha_2024')])"
      ],
      "metadata": {
        "colab": {
          "base_uri": "https://localhost:8080/"
        },
        "id": "RWKk6Lt_Nk_F",
        "outputId": "3298b6e5-e23d-40d8-c1c5-f1782b2edfc5"
      },
      "execution_count": null,
      "outputs": [
        {
          "output_type": "stream",
          "name": "stdout",
          "text": [
            "Usuários cadastrados: dict_items([('admin', 'nova_senha_2024'), ('maria', 'python2024')])\n",
            "Usuários cadastrados: dict_keys(['admin', 'maria'])\n",
            "Dados completos: dict_values(['nova_senha_2024', 'python2024'])\n"
          ]
        }
      ]
    }
  ]
}