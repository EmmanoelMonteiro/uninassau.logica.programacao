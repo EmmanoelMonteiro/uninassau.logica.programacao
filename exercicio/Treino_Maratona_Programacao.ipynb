{
  "nbformat": 4,
  "nbformat_minor": 0,
  "metadata": {
    "colab": {
      "provenance": []
    },
    "kernelspec": {
      "name": "python3",
      "display_name": "Python 3"
    },
    "language_info": {
      "name": "python"
    }
  },
  "cells": [
    {
      "cell_type": "markdown",
      "source": [
        "\n",
        "# TREINAMENTO PARA MARATONA DE PROGRAMAÇÃO\n",
        "\n",
        "**Professor:** *Emmanoel Monteiro de Sousa Junior*\n",
        "\n",
        "**Disciplina:** Introdução a lógica de programação e algoritmos\n",
        "\n",
        "## Regras:\n",
        "\n",
        "1. Grupos de até 4 alunos;\n",
        "2. Cada grupo deve eleger um capitão, responsável por comunicar-se com os fiscais;\n",
        "3. O fiscal verificará a solução diretamente no computador do grupo;\n",
        "5. Se houver erro, o grupo terá 5 minutos para corrigir e solicitar uma nova revisão que poderá ser realizada por outro fiscal;\n",
        "6. Cada questão resolvida é marcada no quadro com um check (✓) ao lado do nome do grupo;\n",
        "\n",
        "## Vitória:\n",
        "\n",
        "1. Grupo que resolver todas as questões primeiro vence imediatamente.\n",
        "2. Se o tempo acabar, vence o grupo com mais questões resolvidas.\n",
        "3. Desempate: Soma dos pesos das questões resolvidas:\n",
        "\n",
        "*   Fácil: 1 ponto\n",
        "*   Média: 3 pontos\n",
        "*   Difícil: 5 pontos\n",
        "\n",
        "## Restrições\n",
        "\n",
        "1. Permitido: Documentação oficial do Python (sem acesso a fóruns ou soluções prontas) e IA da IDE de desenvolvimento.\n",
        "2. Proibido: Copiar código de outros grupos, usar IAs Externas (ex: ChatGPT e DeepSeek).\n",
        "\n",
        "## Dicas estratégicas\n",
        "\n",
        "* Comecem pelas questões fáceis para garantir pontos rápidos.\n",
        "* Dividam as tarefas entre os membros (ex: um cuida da lógica, outro da implementação).\n",
        "\n"
      ],
      "metadata": {
        "id": "1V94Z7fK4dF6"
      }
    },
    {
      "cell_type": "markdown",
      "source": [
        "# Questão 1 (Fácil)\n",
        "\n",
        "Escreva um programa que leia três números inteiros e imprima a soma deles."
      ],
      "metadata": {
        "id": "VxO39Wzn-ZAB"
      }
    },
    {
      "cell_type": "code",
      "execution_count": null,
      "metadata": {
        "id": "TiG_Bd2w-Pnl"
      },
      "outputs": [],
      "source": []
    },
    {
      "cell_type": "markdown",
      "source": [
        "# Questão 2 (Fácil)\n",
        "\n",
        "Crie um programa que inverta a ordem de uma lista de 5 elementos fornecida pelo usuário."
      ],
      "metadata": {
        "id": "xBIqk_dWBioL"
      }
    },
    {
      "cell_type": "code",
      "source": [],
      "metadata": {
        "id": "BfMl1eC0B1YC"
      },
      "execution_count": null,
      "outputs": []
    },
    {
      "cell_type": "markdown",
      "source": [
        "# Questão 3 (Fácil)\n",
        "\n",
        "Implemente uma função eh_par(n) que retorna True se o número for par e False caso contrário."
      ],
      "metadata": {
        "id": "k6LlTFzjGh_Q"
      }
    },
    {
      "cell_type": "code",
      "source": [],
      "metadata": {
        "id": "rNis2RcsGuzl"
      },
      "execution_count": null,
      "outputs": []
    },
    {
      "cell_type": "markdown",
      "source": [
        "# Questão 4 (Fácil)\n",
        "\n",
        "Ordene uma lista de 5 números usando o algoritmo Bubble Sort e imprima a lista ordenada."
      ],
      "metadata": {
        "id": "drxFEZ8UKS1t"
      }
    },
    {
      "cell_type": "code",
      "source": [],
      "metadata": {
        "id": "OtnNh98dKexP"
      },
      "execution_count": null,
      "outputs": []
    },
    {
      "cell_type": "markdown",
      "source": [
        "# Questão 5 (Média)\n",
        "\n",
        "Escreva um programa que conte quantas vezes a letra \"a\" (maiúscula ou minúscula) aparece em uma frase fornecida pelo usuário."
      ],
      "metadata": {
        "id": "-XKGJvJ61DCI"
      }
    },
    {
      "cell_type": "code",
      "source": [],
      "metadata": {
        "id": "VZ4G_LmM1Hx1"
      },
      "execution_count": null,
      "outputs": []
    },
    {
      "cell_type": "markdown",
      "source": [
        "# Questão 6 (Média)\n",
        "Crie uma função primos_ate(n) que retorna uma lista de números primos até n.\n",
        "\n"
      ],
      "metadata": {
        "id": "slQCjomMNDYI"
      }
    },
    {
      "cell_type": "code",
      "source": [],
      "metadata": {
        "id": "21gqVP4WNLz2"
      },
      "execution_count": null,
      "outputs": []
    },
    {
      "cell_type": "markdown",
      "source": [
        "# Questão 7 (Média)\n",
        "\n",
        "Faça um programa que some duas matrizes 3x3."
      ],
      "metadata": {
        "id": "-d0YZegrwY0x"
      }
    },
    {
      "cell_type": "code",
      "source": [],
      "metadata": {
        "id": "unV2JOJzwbon"
      },
      "execution_count": null,
      "outputs": []
    },
    {
      "cell_type": "markdown",
      "source": [
        "# Questão 8 (Média)\n",
        "\n",
        "Construa um programa que calcule a área de um triângulo retângulo."
      ],
      "metadata": {
        "id": "cfVr2h24wlem"
      }
    },
    {
      "cell_type": "code",
      "source": [],
      "metadata": {
        "id": "VpH7YkrdwoFY"
      },
      "execution_count": null,
      "outputs": []
    },
    {
      "cell_type": "markdown",
      "source": [
        "# Questão 9 (Difícil)\n",
        "\n",
        "Ordene uma lista de palavras primeiro pelo tamanho (da maior para a menor) e, em caso de empate, alfabeticamente."
      ],
      "metadata": {
        "id": "oA3ikf4VxUwk"
      }
    },
    {
      "cell_type": "code",
      "source": [],
      "metadata": {
        "id": "Blt85wFFxYZ7"
      },
      "execution_count": null,
      "outputs": []
    },
    {
      "cell_type": "markdown",
      "source": [
        "# Questão 10 (Difícil)\n",
        "\n",
        "Faça um programa que leia uma lista de números e imprima a frequência (quantas vezes aparece) de cada elemento, na ordem em que os elementos aparecem pela primeira vez.\n",
        "\n",
        "Exemplo:\n",
        "Entrada: [5, 2, 8, 2, 5, 5]"
      ],
      "metadata": {
        "id": "vyJDj0kNydto"
      }
    },
    {
      "cell_type": "code",
      "source": [],
      "metadata": {
        "id": "-M7JVZJZykl3"
      },
      "execution_count": null,
      "outputs": []
    }
  ]
}